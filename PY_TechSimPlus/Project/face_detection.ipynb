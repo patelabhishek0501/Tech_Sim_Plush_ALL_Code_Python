{
 "cells": [
  {
   "cell_type": "code",
   "execution_count": 1,
   "metadata": {},
   "outputs": [
    {
     "ename": "ModuleNotFoundError",
     "evalue": "No module named 'cv2'",
     "output_type": "error",
     "traceback": [
      "\u001b[1;31m---------------------------------------------------------------------------\u001b[0m",
      "\u001b[1;31mModuleNotFoundError\u001b[0m                       Traceback (most recent call last)",
      "Cell \u001b[1;32mIn[1], line 1\u001b[0m\n\u001b[1;32m----> 1\u001b[0m \u001b[38;5;28;01mimport\u001b[39;00m \u001b[38;5;21;01mcv2\u001b[39;00m \n\u001b[0;32m      2\u001b[0m \u001b[38;5;28;01mimport\u001b[39;00m \u001b[38;5;21;01mcv2\u001b[39;00m\u001b[38;5;21;01m.\u001b[39;00m\u001b[38;5;21;01mdata\u001b[39;00m \n\u001b[0;32m      3\u001b[0m \u001b[38;5;28;01mimport\u001b[39;00m \u001b[38;5;21;01mmatplotlib\u001b[39;00m\u001b[38;5;21;01m.\u001b[39;00m\u001b[38;5;21;01mpyplot\u001b[39;00m \u001b[38;5;28;01mas\u001b[39;00m \u001b[38;5;21;01mplt\u001b[39;00m \n",
      "\u001b[1;31mModuleNotFoundError\u001b[0m: No module named 'cv2'"
     ]
    }
   ],
   "source": [
    "import cv2 \n",
    "import cv2.data \n",
    "import matplotlib.pyplot as plt \n",
    "person_image = cv2.imread(\"./Person.jfif\") \n",
    "gray_image = cv2.cvtColor(person_image,cv2.COLOR_BGR2GRAY) \n",
    "data_path = cv2.data.haarcascades + \"haarcascade_frontalface_default.xml\" \n",
    "classifier = cv2.CascadeClassifier(data_path) \n",
    "faces = classifier.detectMultiScale(gray_image,1.3,5) \n",
    "for face in faces: \n",
    "    print(face) \n",
    "    x = face[0] \n",
    "    y = face[1] \n",
    "    w = face[2] \n",
    "    h = face[3] \n",
    "    cv2.rectangle(person_image,(x,y),(x+w,y+h),(255,255,255),3) \n",
    "plt.imshow(person_image) \n",
    "plt.axis(\"on\")\n",
    "plt.show() \n",
    "\n",
    "# this code is for vscode with .py file\n",
    "# while True:\n",
    "#     cv2.imshow(\"My Image\",person_image)\n",
    "#     if cv2.waitKey(1) == ord(\"q\"):\n",
    "#         break"
   ]
  }
 ],
 "metadata": {
  "kernelspec": {
   "display_name": "Python 3",
   "language": "python",
   "name": "python3"
  },
  "language_info": {
   "codemirror_mode": {
    "name": "ipython",
    "version": 3
   },
   "file_extension": ".py",
   "mimetype": "text/x-python",
   "name": "python",
   "nbconvert_exporter": "python",
   "pygments_lexer": "ipython3",
   "version": "3.12.0"
  }
 },
 "nbformat": 4,
 "nbformat_minor": 2
}
